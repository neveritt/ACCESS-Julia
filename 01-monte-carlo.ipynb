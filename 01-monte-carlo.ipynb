{
 "cells": [
  {
   "cell_type": "markdown",
   "metadata": {},
   "source": [
    "## Monte Carlo Simulations\n",
    "\n",
    "### A Small Example\n",
    "\n",
    "Let's try to simulate\n",
    "\n",
    "\\begin{align*}\n",
    "  \\begin{aligned}\n",
    "    x_{k+1} = \\begin{bmatrix}\n",
    "      0.5 & 0 \\\\\n",
    "      0 & 1.5\n",
    "    \\end{bmatrix} x_{k} + \\begin{bmatrix}\n",
    "      1 \\\\ 1\n",
    "    \\end{bmatrix} u_{k} + n_{k} \\,,\n",
    "  \\end{aligned}\n",
    "\\end{align*}\n",
    "\n",
    "with the controller $u_{k} = \\begin{bmatrix}0.16 & -1.96\\end{bmatrix} x_{k}$ and standard, normal noise $n_{k}$.\n",
    "\n",
    "#### Function Definition\n",
    "\n",
    "Since Julia is JIT-compiled language, writing a function is almost always beneficial (for efficiency purposes).\n",
    "\n",
    "#### References\n",
    "\n",
    "Parallelization tips borrowed from Julia's [documentation](http://docs.julialang.org/en/stable/manual/parallel-computing/)."
   ]
  },
  {
   "cell_type": "code",
   "execution_count": 1,
   "metadata": {
    "collapsed": false
   },
   "outputs": [
    {
     "data": {
      "text/plain": [
       "simulate_serial! (generic function with 1 method)"
      ]
     },
     "execution_count": 1,
     "metadata": {},
     "output_type": "execute_result"
    }
   ],
   "source": [
    "function simulate_serial!(x; x₀ = zeros(2))\n",
    "    A = [0.5 0; 0 1.5]\n",
    "    B = [1; 1]\n",
    "    K = [0.16 -1.96]\n",
    "    Ã = A + B*K\n",
    "    for n = 1:size(x,3)\n",
    "        x[:,1,n] = x₀\n",
    "        for k = 2:size(x,2)\n",
    "            x[:,k,n] = Ã*x[:,k-1,n] + randn(2)\n",
    "        end\n",
    "    end\n",
    "    x\n",
    "end"
   ]
  },
  {
   "cell_type": "markdown",
   "metadata": {},
   "source": [
    "Run once to compile"
   ]
  },
  {
   "cell_type": "code",
   "execution_count": 2,
   "metadata": {
    "collapsed": false
   },
   "outputs": [],
   "source": [
    "x = zeros(2,100,1)\n",
    "x₀ = [50; 100]\n",
    "simulate_serial!(x, x₀ = x₀);"
   ]
  },
  {
   "cell_type": "code",
   "execution_count": 3,
   "metadata": {
    "collapsed": false
   },
   "outputs": [
    {
     "name": "stdout",
     "output_type": "stream",
     "text": [
      "  5.196376 seconds (99.10 M allocations: 4.576 GB, 6.83% gc time)\n"
     ]
    }
   ],
   "source": [
    "N = 100000 # Monte Carlo simulations\n",
    "x = zeros(2,100,N)\n",
    "\n",
    "@time simulate_serial!(x, x₀ = x₀);"
   ]
  },
  {
   "cell_type": "code",
   "execution_count": 4,
   "metadata": {
    "collapsed": false
   },
   "outputs": [
    {
     "data": {
      "text/plain": [
       "2×100 Array{Float64,2}:\n",
       "  50.0  -162.283   -29.1507   -5.96011  …  -1.5106    -2.20254   -0.9919  \n",
       " 100.0   -39.5975   -7.11805  -1.15788      0.642435   0.133709  -0.656561"
      ]
     },
     "execution_count": 4,
     "metadata": {},
     "output_type": "execute_result"
    }
   ],
   "source": [
    "x[:,:,1]"
   ]
  },
  {
   "cell_type": "code",
   "execution_count": 5,
   "metadata": {
    "collapsed": false
   },
   "outputs": [
    {
     "data": {
      "text/plain": [
       "2×100 Array{Float64,2}:\n",
       "  50.0  -163.12    -34.5176  -4.95984  …  1.80269  -6.10451  -0.186694\n",
       " 100.0   -37.9803   -8.6803  -2.66838     4.71145  -2.05684   0.815923"
      ]
     },
     "execution_count": 5,
     "metadata": {},
     "output_type": "execute_result"
    }
   ],
   "source": [
    "x[:,:,2]"
   ]
  },
  {
   "cell_type": "markdown",
   "metadata": {},
   "source": [
    "Now, let's try to parallelize it among 4 workers."
   ]
  },
  {
   "cell_type": "code",
   "execution_count": 6,
   "metadata": {
    "collapsed": false
   },
   "outputs": [
    {
     "data": {
      "text/plain": [
       "4-element Array{Int64,1}:\n",
       " 2\n",
       " 3\n",
       " 4\n",
       " 5"
      ]
     },
     "execution_count": 6,
     "metadata": {},
     "output_type": "execute_result"
    }
   ],
   "source": [
    "workspace()\n",
    "addprocs(4) # Add 4 workers"
   ]
  },
  {
   "cell_type": "code",
   "execution_count": 7,
   "metadata": {
    "collapsed": false
   },
   "outputs": [
    {
     "data": {
      "text/plain": [
       "simulate_parallel! (generic function with 1 method)"
      ]
     },
     "execution_count": 7,
     "metadata": {},
     "output_type": "execute_result"
    }
   ],
   "source": [
    "function simulate_parallel!(x; x₀ = zeros(2))\n",
    "    A = [0.5 0; 0 1.5]\n",
    "    B = [1; 1]\n",
    "    K = [0.16 -1.96]\n",
    "    Ã = A + B*K\n",
    "    @sync @parallel for n = 1:size(x,3)\n",
    "        x[:,1,n] = x₀\n",
    "        for k = 2:size(x,2)\n",
    "            x[:,k,n] = Ã*x[:,k-1,n] + randn(2)\n",
    "        end\n",
    "    end\n",
    "    x\n",
    "end"
   ]
  },
  {
   "cell_type": "code",
   "execution_count": 8,
   "metadata": {
    "collapsed": false
   },
   "outputs": [
    {
     "name": "stdout",
     "output_type": "stream",
     "text": [
      "  8.261979 seconds (2.37 M allocations: 102.886 MB, 1.34% gc time)\n"
     ]
    }
   ],
   "source": [
    "N = 100000 # Monte Carlo simulations\n",
    "x = zeros(2,100,N)\n",
    "x₀ = [50; 100]\n",
    "\n",
    "@time simulate_parallel!(x, x₀ = x₀);"
   ]
  },
  {
   "cell_type": "code",
   "execution_count": 9,
   "metadata": {
    "collapsed": false
   },
   "outputs": [
    {
     "data": {
      "text/plain": [
       "2×100 Array{Float64,2}:\n",
       " 0.0  0.0  0.0  0.0  0.0  0.0  0.0  0.0  …  0.0  0.0  0.0  0.0  0.0  0.0  0.0\n",
       " 0.0  0.0  0.0  0.0  0.0  0.0  0.0  0.0     0.0  0.0  0.0  0.0  0.0  0.0  0.0"
      ]
     },
     "execution_count": 9,
     "metadata": {},
     "output_type": "execute_result"
    }
   ],
   "source": [
    "x[:,:,1]"
   ]
  },
  {
   "cell_type": "code",
   "execution_count": 10,
   "metadata": {
    "collapsed": false
   },
   "outputs": [
    {
     "data": {
      "text/plain": [
       "2×100 Array{Float64,2}:\n",
       " 0.0  0.0  0.0  0.0  0.0  0.0  0.0  0.0  …  0.0  0.0  0.0  0.0  0.0  0.0  0.0\n",
       " 0.0  0.0  0.0  0.0  0.0  0.0  0.0  0.0     0.0  0.0  0.0  0.0  0.0  0.0  0.0"
      ]
     },
     "execution_count": 10,
     "metadata": {},
     "output_type": "execute_result"
    }
   ],
   "source": [
    "x[:,:,2]"
   ]
  },
  {
   "cell_type": "code",
   "execution_count": 12,
   "metadata": {
    "collapsed": false
   },
   "outputs": [
    {
     "name": "stdout",
     "output_type": "stream",
     "text": [
      "  2.728109 seconds (1.50 k allocations: 49.063 KB)\n"
     ]
    }
   ],
   "source": [
    "x = SharedArray(Float64, (2,100,N))\n",
    "\n",
    "@time simulate_parallel!(x, x₀ = x₀);"
   ]
  },
  {
   "cell_type": "code",
   "execution_count": 13,
   "metadata": {
    "collapsed": false
   },
   "outputs": [
    {
     "data": {
      "text/plain": [
       "2×100 Array{Float64,2}:\n",
       "  50.0  -164.215   -34.0463   -4.14364   …  2.59845  -5.24263  -0.723721\n",
       " 100.0   -38.6228   -9.28956  -0.998996     2.69325  -1.161    -0.186591"
      ]
     },
     "execution_count": 13,
     "metadata": {},
     "output_type": "execute_result"
    }
   ],
   "source": [
    "x[:,:,1]"
   ]
  },
  {
   "cell_type": "code",
   "execution_count": 14,
   "metadata": {
    "collapsed": false
   },
   "outputs": [
    {
     "data": {
      "text/plain": [
       "2×100 Array{Float64,2}:\n",
       "  50.0  -161.633   -31.5969   -1.47357   …  5.32796   2.45212   0.950797\n",
       " 100.0   -38.1052   -9.89967   0.232877     0.292643  0.755201  1.24397 "
      ]
     },
     "execution_count": 14,
     "metadata": {},
     "output_type": "execute_result"
    }
   ],
   "source": [
    "x[:,:,2]"
   ]
  },
  {
   "cell_type": "code",
   "execution_count": 15,
   "metadata": {
    "collapsed": false
   },
   "outputs": [],
   "source": [
    "@everywhere function mychunk(q::SharedArray)\n",
    "    idx = indexpids(q)\n",
    "    idx == 0 && return 1:0 # master does not have any work\n",
    "    nchunks = length(procs(q))\n",
    "    splits = [round(Int,s) for s in linspace(0, size(q,3), nchunks + 1)]\n",
    "    return splits[idx]+1:splits[idx+1]\n",
    "end"
   ]
  },
  {
   "cell_type": "code",
   "execution_count": 16,
   "metadata": {
    "collapsed": false
   },
   "outputs": [],
   "source": [
    "@everywhere function simulate_chunk!(x; x₀ = zeros(2))\n",
    "    A = [0.5 0; 0 1.5]\n",
    "    B = [1; 1]\n",
    "    K = [0.16 -1.96]\n",
    "    Ã = A + B*K\n",
    "    for n in mychunk(x)\n",
    "        x[:,1,n] = x₀\n",
    "        for k = 2:size(x,2)\n",
    "            x[:,k,n] = Ã*x[:,k-1,n] + randn(2)\n",
    "        end\n",
    "    end\n",
    "    x\n",
    "end"
   ]
  },
  {
   "cell_type": "code",
   "execution_count": 17,
   "metadata": {
    "collapsed": false
   },
   "outputs": [
    {
     "data": {
      "text/plain": [
       "simulate_shared! (generic function with 1 method)"
      ]
     },
     "execution_count": 17,
     "metadata": {},
     "output_type": "execute_result"
    }
   ],
   "source": [
    "function simulate_shared!(x; x₀ = zeros(2))\n",
    "    @sync for p in procs(x)\n",
    "        @async remotecall_wait(simulate_chunk!, p, x; x₀ = x₀)\n",
    "    end\n",
    "end"
   ]
  },
  {
   "cell_type": "code",
   "execution_count": 19,
   "metadata": {
    "collapsed": false
   },
   "outputs": [
    {
     "name": "stdout",
     "output_type": "stream",
     "text": [
      "  2.734287 seconds (759 allocations: 58.094 KB)\n"
     ]
    }
   ],
   "source": [
    "x = SharedArray(Float64, (2,100,N))\n",
    "\n",
    "@time simulate_shared!(x, x₀ = x₀)"
   ]
  },
  {
   "cell_type": "code",
   "execution_count": 20,
   "metadata": {
    "collapsed": false
   },
   "outputs": [
    {
     "data": {
      "text/plain": [
       "2×100 Array{Float64,2}:\n",
       "  50.0  -163.797   -33.2074  -7.40186   …  0.995661  -0.318155  -3.25702\n",
       " 100.0   -38.2058   -8.221   -0.976372     0.812627   1.07233    1.51922"
      ]
     },
     "execution_count": 20,
     "metadata": {},
     "output_type": "execute_result"
    }
   ],
   "source": [
    "x[:,:,1]"
   ]
  },
  {
   "cell_type": "code",
   "execution_count": 21,
   "metadata": {
    "collapsed": false
   },
   "outputs": [
    {
     "data": {
      "text/plain": [
       "2×100 Array{Float64,2}:\n",
       "  50.0  -162.108  -34.6556   -4.18028  …  3.55388  -0.50931    0.137739\n",
       " 100.0   -37.14    -9.81649  -1.48247     1.94443  -0.369575  -2.38181 "
      ]
     },
     "execution_count": 21,
     "metadata": {},
     "output_type": "execute_result"
    }
   ],
   "source": [
    "x[:,:,2]"
   ]
  }
 ],
 "metadata": {
  "kernelspec": {
   "display_name": "Julia 0.5.0",
   "language": "julia",
   "name": "julia-0.5"
  },
  "language_info": {
   "file_extension": ".jl",
   "mimetype": "application/julia",
   "name": "julia",
   "version": "0.5.0"
  }
 },
 "nbformat": 4,
 "nbformat_minor": 2
}
